{
 "cells": [
  {
   "cell_type": "markdown",
   "metadata": {},
   "source": [
    "\n",
    "# *Exploration of Taxi Trip Fares in the San Francisco Bay Area*"
   ]
  },
  {
   "cell_type": "code",
   "execution_count": 8,
   "metadata": {},
   "outputs": [],
   "source": [
    "from datascience import *\n",
    "import numpy as np\n",
    "import matplotlib.pyplot as plt\n",
    "import warnings\n",
    "warnings.filterwarnings('ignore')\n",
    "%matplotlib inline"
   ]
  },
  {
   "cell_type": "code",
   "execution_count": 43,
   "metadata": {},
   "outputs": [],
   "source": [
    "taxi_data = Table.read_table(\"SF_taxi_data.csv\")"
   ]
  },
  {
   "cell_type": "markdown",
   "metadata": {},
   "source": [
    "### Relationship Between Fares and Distance"
   ]
  },
  {
   "cell_type": "markdown",
   "metadata": {},
   "source": [
    "According to the SFMTA fare calculation table, <br>\n",
    "$Fare(x) \\geq 3.5 + 0.55 × (5x − 1)$ <br>\n",
    "We will analyze how this model compares to the actual relationship between fares and distance using real data."
   ]
  },
  {
   "cell_type": "code",
   "execution_count": 55,
   "metadata": {},
   "outputs": [
    {
     "data": {
      "text/plain": [
       "51.760001810791501"
      ]
     },
     "execution_count": 55,
     "metadata": {},
     "output_type": "execute_result"
    }
   ],
   "source": [
    "predicted_fare = 3.5 + 0.55 * (5 * taxi_data.column(\"dist (miles)\") - 1)\n",
    "actual_fare = taxi_data.column(\"fare ($)\")\n",
    "least_squared_error = sum((actual_fare - predicted_fare) ** 2) / len(actual_fare)\n",
    "least_squared_error"
   ]
  },
  {
   "cell_type": "markdown",
   "metadata": {},
   "source": [
    "Since the least squared error calculated from this is "
   ]
  },
  {
   "cell_type": "markdown",
   "metadata": {},
   "source": [
    "### Analysis of Trips Related to SFO"
   ]
  },
  {
   "cell_type": "markdown",
   "metadata": {},
   "source": [
    "In order to split up the total taxi trips to trips that include SFO and trips that do not include SFO, let us divide the taxi_data table into two tables that fit the criteria."
   ]
  },
  {
   "cell_type": "code",
   "execution_count": 53,
   "metadata": {},
   "outputs": [],
   "source": [
    "sfo_taz = taxi_data.group(\"deptaz\").sort(\"count\", descending=True).column(\"deptaz\").item(0)\n",
    "sfo_labeled_table = taxi_data.with_column(\"sfo\", np.logical_or(taxi_data.column(\"deptaz\") == np.full(taxi_data.num_rows, sfo_taz), taxi_data.column(\"arrtaz\") == np.full(taxi_data.num_rows, sfo_taz)))\n",
    "sfo_trips = sfo_labeled_table.where(\"sfo\", True).drop(\"sfo\")\n",
    "no_sfo_trips = sfo_labeled_table.where(\"sfo\", False).drop(\"sfo\")"
   ]
  },
  {
   "cell_type": "markdown",
   "metadata": {},
   "source": [
    "Let us analyze the differences between trips that include SFO and trips that do not by looking at the distances and fares."
   ]
  },
  {
   "cell_type": "code",
   "execution_count": 54,
   "metadata": {},
   "outputs": [
    {
     "name": "stdout",
     "output_type": "stream",
     "text": [
      "Mean distance for sfo trips :  13.6399973334\n",
      "Mean distance for non-sfo trips :  2.14582874527\n",
      "Mean fare for sfo trips :  49.0883790447\n",
      "Mean fare for non-sfo trips :  12.3978968537\n"
     ]
    }
   ],
   "source": [
    "print(\"Mean distance for sfo trips : \", np.mean(sfo_trips.column(\"dist (miles)\")))\n",
    "print(\"Mean distance for non-sfo trips : \", np.mean(no_sfo_trips.column(\"dist (miles)\")))\n",
    "print(\"Mean fare for sfo trips : \", np.mean(sfo_trips.column(\"fare ($)\")))\n",
    "print(\"Mean fare for non-sfo trips : \", np.mean(no_sfo_trips.column(\"fare ($)\")))"
   ]
  },
  {
   "cell_type": "markdown",
   "metadata": {},
   "source": [
    "From these means, we can see that the distances for trips including SFO are on average much bigger than other trips, hence the average fare is also higher. This logically makes sense because SFO is quite far from most hotspots in the Bay Area."
   ]
  },
  {
   "cell_type": "code",
   "execution_count": null,
   "metadata": {},
   "outputs": [],
   "source": []
  }
 ],
 "metadata": {
  "kernelspec": {
   "display_name": "Python 3",
   "language": "python",
   "name": "python3"
  },
  "language_info": {
   "codemirror_mode": {
    "name": "ipython",
    "version": 3
   },
   "file_extension": ".py",
   "mimetype": "text/x-python",
   "name": "python",
   "nbconvert_exporter": "python",
   "pygments_lexer": "ipython3",
   "version": "3.6.1"
  }
 },
 "nbformat": 4,
 "nbformat_minor": 2
}
